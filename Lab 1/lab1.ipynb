{
 "cells": [
  {
   "cell_type": "code",
   "execution_count": 1,
   "metadata": {},
   "outputs": [],
   "source": [
    "import monkdata as m"
   ]
  },
  {
   "cell_type": "code",
   "execution_count": 2,
   "metadata": {},
   "outputs": [],
   "source": [
    "import dtree"
   ]
  },
  {
   "cell_type": "code",
   "execution_count": 3,
   "metadata": {},
   "outputs": [
    {
     "data": {
      "text/plain": [
       "0.9977724720899821"
      ]
     },
     "execution_count": 3,
     "metadata": {},
     "output_type": "execute_result"
    }
   ],
   "source": [
    "dtree.entropy(m.monk3test)"
   ]
  },
  {
   "cell_type": "code",
   "execution_count": 4,
   "metadata": {},
   "outputs": [
    {
     "data": {
      "text/plain": [
       "0.07527255560831925"
      ]
     },
     "execution_count": 4,
     "metadata": {},
     "output_type": "execute_result"
    }
   ],
   "source": [
    "dtree.averageGain(m.monk1, m.attributes[0])"
   ]
  },
  {
   "cell_type": "code",
   "execution_count": 5,
   "metadata": {},
   "outputs": [
    {
     "data": {
      "text/plain": [
       "0.07527255560831925"
      ]
     },
     "execution_count": 5,
     "metadata": {},
     "output_type": "execute_result"
    }
   ],
   "source": [
    "dtree.averageGain(m.monk1, m.attributes[0])"
   ]
  },
  {
   "cell_type": "code",
   "execution_count": 6,
   "metadata": {},
   "outputs": [
    {
     "name": "stdout",
     "output_type": "stream",
     "text": [
      "MONK-1:\n",
      "0.07527255560831925\n",
      "0.005838429962909286\n",
      "0.00470756661729721\n",
      "0.02631169650768228\n",
      "0.28703074971578435\n",
      "0.0007578557158638421\n",
      "\n",
      "MONK-2:\n",
      "0.0037561773775118823\n",
      "0.0024584986660830532\n",
      "0.0010561477158920196\n",
      "0.015664247292643818\n",
      "0.01727717693791797\n",
      "0.006247622236881467\n",
      "\n",
      "MONK-3:\n",
      "0.007120868396071844\n",
      "0.29373617350838865\n",
      "0.0008311140445336207\n",
      "0.002891817288654397\n",
      "0.25591172461972755\n",
      "0.007077026074097326\n"
     ]
    }
   ],
   "source": [
    "print(\"MONK-1:\")\n",
    "for i in range(6):\n",
    "    print(dtree.averageGain(m.monk1, m.attributes[i]))\n",
    "\n",
    "print(\"\\nMONK-2:\")\n",
    "for i in range(6):\n",
    "    print(dtree.averageGain(m.monk2, m.attributes[i]))\n",
    "    \n",
    "print(\"\\nMONK-3:\")\n",
    "for i in range(6):\n",
    "    print(dtree.averageGain(m.monk3, m.attributes[i]))"
   ]
  },
  {
   "cell_type": "code",
   "execution_count": 7,
   "metadata": {},
   "outputs": [
    {
     "name": "stdout",
     "output_type": "stream",
     "text": [
      "\n",
      "Subset 0, entropy 0.0:\n",
      "0.0\n",
      "0.0\n",
      "0.0\n",
      "0.0\n",
      "0.0\n",
      "\n",
      "Subset 1, entropy 0.9383153522334069:\n",
      "0.040216841609413634\n",
      "0.015063475072186083\n",
      "0.03727262736015946\n",
      "0.04889220262952931\n",
      "0.025807284723902146\n",
      "\n",
      "Subset 2, entropy 0.9480782435939054:\n",
      "0.03305510013455182\n",
      "0.002197183539100922\n",
      "0.017982293842278896\n",
      "0.01912275517747053\n",
      "0.04510853782483648\n",
      "\n",
      "Subset 3, entropy 0.9081783472997051:\n",
      "0.20629074641530198\n",
      "0.033898395077640586\n",
      "0.025906145434984817\n",
      "0.07593290844153944\n",
      "0.0033239629631565126\n"
     ]
    }
   ],
   "source": [
    "# Attribute a5 (index 4) value 1..4\n",
    "subsets = [dtree.select(m.monk1, m.attributes[4], v) for v in range(1,5)]\n",
    "\n",
    "for i, s in enumerate(subsets):\n",
    "    entropy = dtree.entropy(s)\n",
    "    print(\"\\nSubset {}, entropy {}:\".format(i, entropy))\n",
    "    for attr in [0,1,2,3,5]:\n",
    "        print(dtree.averageGain(s, m.attributes[attr]))\n",
    "    "
   ]
  },
  {
   "cell_type": "code",
   "execution_count": 10,
   "metadata": {},
   "outputs": [
    {
     "data": {
      "text/plain": [
       "True"
      ]
     },
     "execution_count": 10,
     "metadata": {},
     "output_type": "execute_result"
    }
   ],
   "source": [
    "# a5 = 1, one of the truth concepts fulfilled\n",
    "dtree.mostCommon(subsets[0])"
   ]
  },
  {
   "cell_type": "code",
   "execution_count": 9,
   "metadata": {},
   "outputs": [
    {
     "name": "stdout",
     "output_type": "stream",
     "text": [
      "False\n",
      "False\n",
      "False\n",
      "False\n",
      "False\n",
      "False\n",
      "False\n",
      "True\n"
     ]
    }
   ],
   "source": [
    "# a4\n",
    "ss1 = [dtree.select(subsets[1], m.attributes[3], v) for v in range(1,4)]\n",
    "for ss in ss1:\n",
    "    print(dtree.mostCommon(ss))\n",
    "\n",
    "# a6\n",
    "ss2 = [dtree.select(subsets[2], m.attributes[5], v) for v in range(1,3)]\n",
    "for ss in ss2:\n",
    "    print(dtree.mostCommon(ss))\n",
    "\n",
    "# a1 \n",
    "ss3 = [dtree.select(subsets[3], m.attributes[0], v) for v in range(1,4)]\n",
    "for ss in ss3:\n",
    "    print(dtree.mostCommon(ss))"
   ]
  },
  {
   "cell_type": "code",
   "execution_count": null,
   "metadata": {},
   "outputs": [],
   "source": [
    "import drawtree_qt5 as qt\n",
    "\n",
    "tree = dtree.buildTree(m.monk1, m.attributes, 2)\n",
    "qt.drawTree(tree)"
   ]
  },
  {
   "cell_type": "code",
   "execution_count": 8,
   "metadata": {},
   "outputs": [
    {
     "name": "stdout",
     "output_type": "stream",
     "text": [
      "1.0\n",
      "0.8287037037037037\n",
      "1.0\n",
      "0.6921296296296297\n",
      "1.0\n",
      "0.9444444444444444\n"
     ]
    }
   ],
   "source": [
    "tree1 = dtree.buildTree(m.monk1, m.attributes)\n",
    "tree2 = dtree.buildTree(m.monk2, m.attributes)\n",
    "tree3 = dtree.buildTree(m.monk3, m.attributes)\n",
    "\n",
    "print(dtree.check(tree1, m.monk1))\n",
    "print(dtree.check(tree1, m.monk1test))\n",
    "\n",
    "print(dtree.check(tree2, m.monk2))\n",
    "print(dtree.check(tree2, m.monk2test))\n",
    "\n",
    "print(dtree.check(tree3, m.monk3))\n",
    "print(dtree.check(tree3, m.monk3test))"
   ]
  },
  {
   "cell_type": "code",
   "execution_count": 17,
   "metadata": {},
   "outputs": [],
   "source": [
    "import random\n",
    "\n",
    "def partition(data, fraction):\n",
    "    ldata = list(data)\n",
    "    random.shuffle(ldata)\n",
    "    breakPoint = int(len(ldata) * fraction)\n",
    "    return ldata[:breakPoint], ldata[breakPoint:]"
   ]
  },
  {
   "cell_type": "code",
   "execution_count": 46,
   "metadata": {},
   "outputs": [],
   "source": [
    "def prune_while_improving(tree, data, score = None):\n",
    "    best_score = 0\n",
    "    if score is None:\n",
    "        best_score = dtree.check(tree, data)\n",
    "    else:        \n",
    "        best_score = score\n",
    "    #print(\"Current best: {}\".format(best_score))\n",
    "    best_tree = tree\n",
    "    \n",
    "    pruned = dtree.allPruned(tree)\n",
    "    subtree_bests = [best_score for i in range(len(pruned))]\n",
    "    subtree_best_trees = [tree for i in range(len(pruned))]\n",
    "    for i,p in enumerate(pruned):\n",
    "        p_score = dtree.check(p, data)\n",
    "        if p_score > subtree_bests[i]:\n",
    "            #print(\"{} better than {}\".format(p_score, subtree_bests[i]))\n",
    "            subtree_bests[i], subtree_best_trees[i] = prune_while_improving(p, data, p_score)\n",
    "            \n",
    "    best_score = max(subtree_bests)\n",
    "    best_tree = subtree_best_trees[subtree_bests.index(best_score)]\n",
    "    #print(\"Returning...\")\n",
    "    return best_score, best_tree\n",
    "        "
   ]
  },
  {
   "cell_type": "code",
   "execution_count": 54,
   "metadata": {},
   "outputs": [
    {
     "name": "stdout",
     "output_type": "stream",
     "text": [
      "MONK-1:\n",
      "Average test score from pruning for fraction 0.3: 0.7658101851851855\n",
      "\n",
      "Average test score from pruning for fraction 0.4: 0.7945601851851853\n",
      "\n",
      "Average test score from pruning for fraction 0.5: 0.825162037037037\n",
      "\n",
      "Average test score from pruning for fraction 0.6: 0.8445370370370371\n",
      "\n",
      "Average test score from pruning for fraction 0.7: 0.8538657407407405\n",
      "\n",
      "Average test score from pruning for fraction 0.8: 0.8548842592592598\n",
      "\n",
      "Average test score from pruning for fraction 0.9: 0.8552314814814818\n",
      "\n"
     ]
    }
   ],
   "source": [
    "# MONK-1\n",
    "print(\"MONK-1:\")\n",
    "iterations_per_fraction = 100\n",
    "fractions = [.3, .4, .5, .6, .7, .8, .9]\n",
    "for frac in fractions:\n",
    "    test_scores = []\n",
    "    for i in range(iterations_per_fraction):\n",
    "        monk1train, monk1val = partition(m.monk1, frac)\n",
    "        part_tree = dtree.buildTree(monk1train, m.attributes)\n",
    "        best_score, best_tree = prune_while_improving(part_tree, monk1val)\n",
    "        #print(\"Best in iteration: {}\".format(best_score))\n",
    "        test_scores.append(dtree.check(best_tree, m.monk1test))\n",
    "    \n",
    "    average_test_score = sum(test_scores) / iterations_per_fraction\n",
    "    print(\"Average test score from pruning for fraction {}: {}\\n\".format(frac, average_test_score))"
   ]
  },
  {
   "cell_type": "code",
   "execution_count": 52,
   "metadata": {},
   "outputs": [
    {
     "name": "stdout",
     "output_type": "stream",
     "text": [
      "MONK-3:\n",
      "Average test score from pruning for fraction 0.3: 0.9116203703703707\n",
      "\n",
      "Average test score from pruning for fraction 0.4: 0.9446296296296299\n",
      "\n",
      "Average test score from pruning for fraction 0.5: 0.9531712962962967\n",
      "\n",
      "Average test score from pruning for fraction 0.6: 0.9561111111111117\n",
      "\n",
      "Average test score from pruning for fraction 0.7: 0.9601388888888894\n",
      "\n",
      "Average test score from pruning for fraction 0.8: 0.9581481481481484\n",
      "\n",
      "Average test score from pruning for fraction 0.9: 0.9397222222222222\n",
      "\n"
     ]
    }
   ],
   "source": [
    "# MONK-3\n",
    "print(\"MONK-3:\")\n",
    "iterations_per_fraction = 100\n",
    "fractions = [.3, .4, .5, .6, .7, .8, .9]\n",
    "for frac in fractions:\n",
    "    test_scores = []\n",
    "    for i in range(iterations_per_fraction):\n",
    "        monk3train, monk3val = partition(m.monk3, frac)\n",
    "        part_tree = dtree.buildTree(monk3train, m.attributes)\n",
    "        best_score, best_tree = prune_while_improving(part_tree, monk3val)\n",
    "        #print(\"Best in iteration: {}\".format(best_score))\n",
    "        test_scores.append(dtree.check(best_tree, m.monk3test))\n",
    "    \n",
    "    average_test_score = sum(test_scores) / iterations_per_fraction\n",
    "    print(\"Average test score from pruning for fraction {}: {}\\n\".format(frac, average_test_score))"
   ]
  },
  {
   "cell_type": "code",
   "execution_count": null,
   "metadata": {},
   "outputs": [],
   "source": []
  }
 ],
 "metadata": {
  "kernelspec": {
   "display_name": "Python 3",
   "language": "python",
   "name": "python3"
  },
  "language_info": {
   "codemirror_mode": {
    "name": "ipython",
    "version": 3
   },
   "file_extension": ".py",
   "mimetype": "text/x-python",
   "name": "python",
   "nbconvert_exporter": "python",
   "pygments_lexer": "ipython3",
   "version": "3.7.2"
  }
 },
 "nbformat": 4,
 "nbformat_minor": 2
}
