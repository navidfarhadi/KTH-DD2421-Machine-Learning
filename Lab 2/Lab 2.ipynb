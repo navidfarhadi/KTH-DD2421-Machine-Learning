{
 "cells": [
  {
   "cell_type": "markdown",
   "metadata": {},
   "source": [
    "# DD2421 Lab 2\n",
    "\n",
    "**Authors:** Navid Farhadi (nfarhadi@kth.se), Arturs Kurzemnieks (artursk@kth.se)\n",
    "\n",
    "**Course Instance:** DD2421 Machine Learning VT19"
   ]
  },
  {
   "cell_type": "code",
   "execution_count": 1,
   "metadata": {},
   "outputs": [],
   "source": [
    "import numpy, random, math\n",
    "from scipy.optimize import minimize \n",
    "import matplotlib.pyplot as plt\n",
    "\n",
    "# Global Variables\n",
    "classA = None\n",
    "classB = None\n",
    "inputs = None\n",
    "targets = None\n",
    "N = None\n",
    "kernel_type = None\n",
    "p = None\n",
    "sigma = None\n",
    "support_vectors = None\n",
    "threshold = None\n",
    "P = None\n",
    "support_vector = None\n",
    "C = None"
   ]
  },
  {
   "cell_type": "code",
   "execution_count": 2,
   "metadata": {},
   "outputs": [],
   "source": [
    "def run(kernel_type_input = 'linear', p_input = 1, sigma_input = 1, C_input=1):\n",
    "    global N\n",
    "    global alpha\n",
    "    global targets\n",
    "    global inputs\n",
    "    global kernel_type\n",
    "    global p\n",
    "    global sigma\n",
    "    global threshold\n",
    "    global P\n",
    "    global classA\n",
    "    global classB\n",
    "    global support_vectors\n",
    "    global b\n",
    "    global support_vector\n",
    "    global C\n",
    "    \n",
    "    threshold = math.pow(10, -5)\n",
    "    \n",
    "    classA = numpy.concatenate((numpy.random.randn(10, 2) * 0.2 + [1.5, 0.5], \n",
    "                            numpy.random.randn(10, 2) * 0.2 + [-1.5, 0.5])) \n",
    "    classB = numpy.random.randn(20, 2) * 0.2 + [0.0, -0.5]\n",
    "\n",
    "    inputs = numpy.concatenate((classA, classB)) \n",
    "    targets = numpy.concatenate((numpy.ones(classA.shape[0]), -numpy.ones(classB.shape[0])))\n",
    "    N = inputs.shape[0] \n",
    "    permute = list(range(N)) \n",
    "    random.shuffle(permute) \n",
    "    inputs = inputs[permute, :]\n",
    "    targets = targets[permute]\n",
    "\n",
    "    kernel_type = kernel_type_input\n",
    "    p = p_input\n",
    "    sigma = sigma_input\n",
    "    support_vectors = []\n",
    "    b = 0\n",
    "    C = C_input\n",
    "    \n",
    "    P = numpy.zeros([N,N])\n",
    "    \n",
    "    XC={'type':'eq', 'fun':zerofun}\n",
    "    start = numpy.zeros(N)\n",
    "\n",
    "    ret = minimize(objective, start, bounds=[(0, C) for b in range(N)], constraints=XC)\n",
    "    alpha = ret['x']\n",
    "\n",
    "    extract_nonzero_alpha()\n",
    "    support_vector = support_vectors[0]\n",
    "    \n",
    "    b = 0 - support_vector[2]\n",
    "    for i in range(N):\n",
    "        b += alpha[i] * targets[i] * kernel(support_vector[1],inputs[i])\n",
    "    \n",
    "    plot()\n",
    "\n",
    "def kernel(x1,x2):\n",
    "    if(kernel_type == \"linear\"):\n",
    "        return numpy.dot(numpy.transpose(x1),x2)\n",
    "    if(kernel_type == \"polynomial\"):\n",
    "        return (numpy.dot(numpy.transpose(x1),x2) + 1)**p\n",
    "    if(kernel_type == \"RBF\"):\n",
    "        return math.exp(-(numpy.linalg.norm(x1-x2)**2) / (2*(sigma**2)))\n",
    "\n",
    "def compute_P():\n",
    "    for i in range(N):\n",
    "        for j in range(N):\n",
    "            P[i][j] = targets[i] * targets[j] * kernel(inputs[i],inputs[j])\n",
    "\n",
    "def objective(alpha):\n",
    "    compute_P()\n",
    "    \n",
    "    sum = 0\n",
    "    for i in range(N):\n",
    "        for j in range(N): \n",
    "            sum = sum + alpha[i] * alpha[j] * P[i][j]\n",
    "    \n",
    "    return 0.5 * sum - numpy.sum(alpha)\n",
    "\n",
    "def zerofun(alpha):\n",
    "    sum = 0\n",
    "    for i in range(N):\n",
    "        sum = sum + alpha[i] * targets[i]\n",
    "    \n",
    "    return sum\n",
    "\n",
    "def extract_nonzero_alpha():\n",
    "    if(C == None):\n",
    "        for i in range(N):\n",
    "            if(alpha[i] > threshold):\n",
    "                support_vectors.append([alpha[i], inputs[i], targets[i]])\n",
    "    else:\n",
    "        for i in range(N):\n",
    "            if(alpha[i] > threshold and alpha[i] < C - threshold):\n",
    "                support_vectors.append([alpha[i], inputs[i], targets[i]])\n",
    "\n",
    "def indicator(x,y):\n",
    "    sum = 0\n",
    "    for i in range(N):\n",
    "        sum += alpha[i] * targets[i] * kernel([x,y],inputs[i])\n",
    "\n",
    "    return sum-b\n",
    "    \n",
    "def plot():\n",
    "    \n",
    "    xgrid = numpy.linspace(-3, 3)\n",
    "    ygrid = numpy.linspace(-2, 2)\n",
    "    \n",
    "    grid = numpy.array([[indicator(x, y) for x in xgrid] for y in ygrid])\n",
    "    \n",
    "    plt.contour(xgrid, ygrid, grid, (-1.0, 0.0, 1.0), colors=('red', 'black', 'blue'), linewidths=(1,3,1))\n",
    "    \n",
    "    #plot data\n",
    "    plt.plot([p[0] for p in classA], [p[1] for p in classA], 'b.')\n",
    "    plt.plot([p[0] for p in classB], [p[1] for p in classB], 'r.')\n",
    "    plt.show()\n",
    "\n"
   ]
  },
  {
   "cell_type": "markdown",
   "metadata": {},
   "source": [
    "### Test"
   ]
  },
  {
   "cell_type": "code",
   "execution_count": 3,
   "metadata": {},
   "outputs": [
    {
     "data": {
      "image/png": "[encoded data removed]",
      "text/plain": [
       "<Figure size 432x288 with 1 Axes>"
      ]
     },
     "metadata": {
      "needs_background": "light"
     },
     "output_type": "display_data"
    }
   ],
   "source": [
    "run()"
   ]
  },
  {
   "cell_type": "code",
   "execution_count": null,
   "metadata": {},
   "outputs": [],
   "source": []
  },
  {
   "cell_type": "code",
   "execution_count": null,
   "metadata": {},
   "outputs": [],
   "source": []
  },
  {
   "cell_type": "code",
   "execution_count": null,
   "metadata": {},
   "outputs": [],
   "source": []
  }
 ],
 "metadata": {
  "kernelspec": {
   "display_name": "Python 3",
   "language": "python",
   "name": "python3"
  },
  "language_info": {
   "codemirror_mode": {
    "name": "ipython",
    "version": 3
   },
   "file_extension": ".py",
   "mimetype": "text/x-python",
   "name": "python",
   "nbconvert_exporter": "python",
   "pygments_lexer": "ipython3",
   "version": "3.7.2"
  }
 },
 "nbformat": 4,
 "nbformat_minor": 2
}
