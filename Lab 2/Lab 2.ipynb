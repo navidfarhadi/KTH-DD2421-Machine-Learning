{
 "cells": [
  {
   "cell_type": "markdown",
   "metadata": {},
   "source": [
    "# DD2421 Lab 2\n",
    "\n",
    "**Authors:** Navid Farhadi (nfarhadi@kth.se), Arturs Kurzemnieks (artursk@kth.se)\n",
    "\n",
    "**Course Instance:** DD2421 Machine Learning VT19"
   ]
  },
  {
   "cell_type": "code",
   "execution_count": 8,
   "metadata": {},
   "outputs": [],
   "source": [
    "import numpy, random, math\n",
    "from scipy.optimize import minimize \n",
    "import matplotlib.pyplot as plt\n",
    "\n",
    "# Global Variables\n",
    "classA = None\n",
    "classB = None\n",
    "inputs = None\n",
    "targets = None\n",
    "N = None\n",
    "kernel_type = None\n",
    "p = None\n",
    "sigma = None\n",
    "support_vectors = None\n",
    "threshold = None\n",
    "P = None\n",
    "support_vector = None\n",
    "C = None"
   ]
  },
  {
   "cell_type": "code",
   "execution_count": 39,
   "metadata": {},
   "outputs": [],
   "source": [
    "def run(kernel_type_input = 'linear', p_input = 1, sigma_input = 1, C_input=1, spread=0.2):\n",
    "    global N \n",
    "    global alpha \n",
    "    global targets \n",
    "    global inputs \n",
    "    global kernel_type \n",
    "    global p \n",
    "    global sigma \n",
    "    global threshold \n",
    "    global P \n",
    "    global classA \n",
    "    global classB \n",
    "    global support_vectors\n",
    "    global b \n",
    "    global support_vector\n",
    "    global C\n",
    "    \n",
    "    numpy.random.seed(100)\n",
    "    \n",
    "    threshold = math.pow(10, -5)\n",
    "    \n",
    "    classA = numpy.concatenate((numpy.random.randn(10, 2) * spread + [1.5, 0.5], \n",
    "                            numpy.random.randn(10, 2) * spread + [-1.5, 0.5])) \n",
    "    classB = numpy.random.randn(20, 2) * spread + [0.0, -0.5]\n",
    "\n",
    "    inputs = numpy.concatenate((classA, classB)) \n",
    "    targets = numpy.concatenate((numpy.ones(classA.shape[0]), -numpy.ones(classB.shape[0])))\n",
    "    N = inputs.shape[0] \n",
    "    permute = list(range(N)) \n",
    "    random.shuffle(permute) \n",
    "    inputs = inputs[permute, :]\n",
    "    targets = targets[permute]\n",
    "\n",
    "    kernel_type = kernel_type_input\n",
    "    p = p_input\n",
    "    sigma = sigma_input\n",
    "    support_vectors = []\n",
    "    C = C_input\n",
    "    \n",
    "    P = numpy.zeros([N,N])\n",
    "    \n",
    "    XC={'type':'eq', 'fun':zerofun}\n",
    "    start = numpy.zeros(N)\n",
    "    \n",
    "    compute_P()\n",
    "\n",
    "    ret = minimize(objective, start, bounds=[(0, C) for b in range(N)], constraints=XC)\n",
    "    \n",
    "    b = None\n",
    "    \n",
    "    if(ret['success']):\n",
    "        print(\"Optimization Ran Successfully\")\n",
    "        alpha = ret['x']\n",
    "        extract_nonzero_alpha()\n",
    "        \n",
    "        if(len(support_vectors) == 0):\n",
    "            print(\"No valid support vectors found\")\n",
    "        else:\n",
    "            support_vector = support_vectors[0]\n",
    "            b = 0 - support_vector[2]\n",
    "            for i in range(N):\n",
    "                b += alpha[i] * targets[i] * kernel(support_vector[1],inputs[i])\n",
    "            plot_with_line()\n",
    "            \n",
    "            print(\"Kernel = \" + str(kernel_type))\n",
    "            print(\"C = \" + str(C))\n",
    "            print(\"p = \" + str(p))\n",
    "            print(\"sigma = \" + str(sigma))\n",
    "            \n",
    "    else:\n",
    "        print(\"Optimization Not Successful\")\n",
    "        print(\"Message: \" + ret['message'])\n",
    "        plot_without_line()\n",
    "\n",
    "def kernel(x1,x2):\n",
    "    if(kernel_type == \"linear\"):\n",
    "        return numpy.dot(numpy.transpose(x1),x2)\n",
    "    if(kernel_type == \"polynomial\"):\n",
    "        return (numpy.dot(numpy.transpose(x1),x2) + 1)**p\n",
    "    if(kernel_type == \"RBF\"):\n",
    "        return math.exp(-(numpy.linalg.norm(x1-x2)**2) / (2*(sigma**2)))\n",
    "\n",
    "def compute_P():\n",
    "    for i in range(N):\n",
    "        for j in range(N):\n",
    "            P[i][j] = targets[i] * targets[j] * kernel(inputs[i],inputs[j])\n",
    "\n",
    "def objective(alpha):\n",
    "    return 0.5*(numpy.dot(numpy.dot(alpha, P), alpha)) - numpy.sum(alpha)\n",
    "\n",
    "def zerofun(alpha):\n",
    "    return numpy.dot(alpha,targets)\n",
    "\n",
    "def extract_nonzero_alpha():\n",
    "    if(C == None):\n",
    "        for i in range(N):\n",
    "            if(alpha[i] > threshold):\n",
    "                support_vectors.append([alpha[i], inputs[i], targets[i]])\n",
    "    else:\n",
    "        for i in range(N):\n",
    "            if(alpha[i] > threshold and alpha[i] < C - threshold):\n",
    "                support_vectors.append([alpha[i], inputs[i], targets[i]])\n",
    "\n",
    "def indicator(x,y):\n",
    "    sum = 0\n",
    "    for i in range(N):\n",
    "        sum += alpha[i] * targets[i] * kernel([x,y],inputs[i])\n",
    "\n",
    "    return sum-b\n",
    "    \n",
    "def plot_with_line():\n",
    "    \n",
    "    xgrid = numpy.linspace(-3, 3)\n",
    "    ygrid = numpy.linspace(-2, 2)\n",
    "    \n",
    "    grid = numpy.array([[indicator(x, y) for x in xgrid] for y in ygrid])\n",
    "    \n",
    "    plt.contour(xgrid, ygrid, grid, (-1.0, 0.0, 1.0), colors=('red', 'black', 'blue'), linewidths=(1,3,1))\n",
    "    \n",
    "    plt.plot([p[0] for p in classA], [p[1] for p in classA], 'b.')\n",
    "    plt.plot([p[0] for p in classB], [p[1] for p in classB], 'r.')\n",
    "    plt.show()\n",
    "    \n",
    "def plot_without_line():\n",
    "    \n",
    "    xgrid = numpy.linspace(-3, 3)\n",
    "    ygrid = numpy.linspace(-2, 2)\n",
    "    \n",
    "    plt.plot([p[0] for p in classA], [p[1] for p in classA], 'b.')\n",
    "    plt.plot([p[0] for p in classB], [p[1] for p in classB], 'r.')\n",
    "    plt.show()\n",
    "\n"
   ]
  },
  {
   "cell_type": "markdown",
   "metadata": {},
   "source": [
    "### Test"
   ]
  },
  {
   "cell_type": "code",
   "execution_count": 43,
   "metadata": {},
   "outputs": [
    {
     "name": "stdout",
     "output_type": "stream",
     "text": [
      "Optimization Ran Successfully\n"
     ]
    },
    {
     "data": {
      "image/png": "[encoded data removed]",
      "text/plain": [
       "<Figure size 432x288 with 1 Axes>"
      ]
     },
     "metadata": {
      "needs_background": "light"
     },
     "output_type": "display_data"
    },
    {
     "name": "stdout",
     "output_type": "stream",
     "text": [
      "Kernel = linear\n",
      "C = None\n",
      "p = 1\n",
      "sigma = 1\n"
     ]
    }
   ],
   "source": [
    "run('linear',1,1,None,0.3)"
   ]
  },
  {
   "cell_type": "code",
   "execution_count": 52,
   "metadata": {},
   "outputs": [
    {
     "name": "stdout",
     "output_type": "stream",
     "text": [
      "Optimization Not Successful\n",
      "     fun: -499453.30282523594\n",
      "     jac: array([ 9.91718750e+01,  7.46679688e+01,  1.26894531e+02,  4.53632812e+01,\n",
      "        1.54156250e+02,  5.79921875e+01,  4.91367188e+01,  6.25117188e+01,\n",
      "       -4.75156250e+01, -2.94921875e+00, -6.51992188e+01, -3.35156250e+01,\n",
      "       -2.37265625e+01, -8.39453125e+00, -2.65039062e+01,  4.68750000e-02,\n",
      "       -2.94101562e+01, -3.32031250e+00, -3.50156250e+01, -5.32656250e+01,\n",
      "        2.90234375e+01,  2.60937500e+00, -5.79296875e+00,  1.62734375e+01,\n",
      "        1.70507812e+01,  3.51523438e+01,  4.90000000e+01,  5.66796875e+00,\n",
      "        2.19921875e+00, -1.04335938e+01,  4.56054688e+01,  8.19531250e+00,\n",
      "        2.65625000e+00,  3.03359375e+01,  3.85039062e+01, -7.10937500e-01,\n",
      "       -4.58437500e+01,  1.28632812e+01, -3.78867188e+01, -4.54492188e+01])\n",
      " message: 'Iteration limit exceeded'\n",
      "    nfev: 5154\n",
      "     nit: 101\n",
      "    njev: 101\n",
      "  status: 9\n",
      " success: False\n",
      "       x: array([2.90715079e+03, 1.37808810e+04, 9.90870482e+03, 1.45913487e+04,\n",
      "       7.25873464e+03, 6.85975786e+03, 2.38990735e+04, 4.48775759e+03,\n",
      "       3.05412210e+04, 2.50625533e+04, 5.66203043e+03, 6.14741947e+03,\n",
      "       9.04584879e+03, 6.03488762e+03, 8.46168941e+03, 2.18387846e+04,\n",
      "       1.72489198e+04, 1.06986898e+04, 9.29274756e+00, 1.71709195e+01,\n",
      "       2.94675536e+04, 9.91468876e+03, 2.07711975e+04, 2.81059293e+04,\n",
      "       7.49647190e+03, 1.51386675e+04, 3.49870990e+00, 2.21172739e+03,\n",
      "       1.68690533e+04, 3.78502460e+03, 1.85242594e+04, 8.56790761e+03,\n",
      "       8.67179930e+03, 2.77259590e+03, 2.92428398e+04, 2.90822695e+03,\n",
      "       2.23464829e+04, 2.97841227e+04, 1.82387052e+04, 1.70732738e+02])\n"
     ]
    },
    {
     "data": {
      "image/png": "[encoded data removed]",
      "text/plain": [
       "<Figure size 432x288 with 1 Axes>"
      ]
     },
     "metadata": {
      "needs_background": "light"
     },
     "output_type": "display_data"
    }
   ],
   "source": [
    "run('linear',1,1,None,1)"
   ]
  },
  {
   "cell_type": "code",
   "execution_count": null,
   "metadata": {},
   "outputs": [],
   "source": []
  },
  {
   "cell_type": "code",
   "execution_count": null,
   "metadata": {},
   "outputs": [],
   "source": []
  },
  {
   "cell_type": "code",
   "execution_count": null,
   "metadata": {},
   "outputs": [],
   "source": []
  }
 ],
 "metadata": {
  "kernelspec": {
   "display_name": "Python 3",
   "language": "python",
   "name": "python3"
  },
  "language_info": {
   "codemirror_mode": {
    "name": "ipython",
    "version": 3
   },
   "file_extension": ".py",
   "mimetype": "text/x-python",
   "name": "python",
   "nbconvert_exporter": "python",
   "pygments_lexer": "ipython3",
   "version": "3.7.2"
  }
 },
 "nbformat": 4,
 "nbformat_minor": 2
}
